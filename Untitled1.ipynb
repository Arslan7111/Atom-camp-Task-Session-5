{
  "nbformat": 4,
  "nbformat_minor": 0,
  "metadata": {
    "colab": {
      "provenance": []
    },
    "kernelspec": {
      "name": "python3",
      "display_name": "Python 3"
    },
    "language_info": {
      "name": "python"
    }
  },
  "cells": [
    {
      "cell_type": "markdown",
      "source": [
        "1. Given a list of integers, return the largest difference between any two elements, where the\n",
        "larger element appears after the smaller one. If no such pair exists, return 0."
      ],
      "metadata": {
        "id": "P3RgQ_IGPcpm"
      }
    },
    {
      "cell_type": "code",
      "execution_count": 2,
      "metadata": {
        "colab": {
          "base_uri": "https://localhost:8080/"
        },
        "id": "TkL1n223PVPr",
        "outputId": "8db4da5d-606e-4385-f013-16353ec93bea"
      },
      "outputs": [
        {
          "output_type": "stream",
          "name": "stdout",
          "text": [
            "Enter the list of integers (space-separated): 1 2 3 4 45 \n",
            "Max difference: 44\n"
          ]
        }
      ],
      "source": [
        "def max_difference(nums):\n",
        "    if len(nums) < 2:\n",
        "        return 0\n",
        "\n",
        "    min_val = nums[0]\n",
        "    max_diff = 0\n",
        "\n",
        "    for i in range(1, len(nums)):\n",
        "        if nums[i] > min_val:\n",
        "            max_diff = max(max_diff, nums[i] - min_val)\n",
        "        else:\n",
        "            min_val = nums[i]\n",
        "\n",
        "    return max_diff\n",
        "\n",
        "# Get input from user\n",
        "input_str = input(\"Enter the list of integers (space-separated): \")\n",
        "arr = list(map(int, input_str.strip().split()))\n",
        "\n",
        "# Calculate and print result\n",
        "print(\"Max difference:\", max_difference(arr))\n"
      ]
    },
    {
      "cell_type": "markdown",
      "source": [
        "2. Given a string, return the first non-repeating character. If there are no non-repeating characters, return none"
      ],
      "metadata": {
        "id": "9fusO9B3RY1O"
      }
    },
    {
      "cell_type": "code",
      "source": [
        "def first_non_repeating_char(s):\n",
        "    char_count = {}\n",
        "\n",
        "    # Count frequency of each character\n",
        "    for char in s:\n",
        "        char_count[char] = char_count.get(char, 0) + 1\n",
        "\n",
        "    # Find the first character with frequency 1\n",
        "    for char in s:\n",
        "        if char_count[char] == 1:\n",
        "            return char\n",
        "\n",
        "    return \"none\"\n",
        "\n",
        "# Example usage\n",
        "input_str = input(\"Enter a string: \")\n",
        "result = first_non_repeating_char(input_str)\n",
        "print(\"First non-repeating character:\", result)\n"
      ],
      "metadata": {
        "colab": {
          "base_uri": "https://localhost:8080/"
        },
        "id": "FJkCt8BqPmS9",
        "outputId": "22a5f0c5-f926-496b-c239-e7000f0d1def"
      },
      "execution_count": 3,
      "outputs": [
        {
          "output_type": "stream",
          "name": "stdout",
          "text": [
            "Enter a string: Ahmadd\n",
            "First non-repeating character: A\n"
          ]
        }
      ]
    },
    {
      "cell_type": "markdown",
      "source": [
        "3. Given two strings, write a function to check if one is a permutation of the other. Return True if\n",
        "they are permutations, False otherwise."
      ],
      "metadata": {
        "id": "jV1ujwHrSYXp"
      }
    },
    {
      "cell_type": "code",
      "source": [
        "def are_permutations(str1, str2):\n",
        "    # If lengths are different, they can't be permutations\n",
        "    if len(str1) != len(str2):\n",
        "        return False\n",
        "\n",
        "    # Sort both strings and compare\n",
        "    return sorted(str1) == sorted(str2)\n",
        "\n",
        "# Example usage\n",
        "s1 = input(\"Enter first string: \")\n",
        "s2 = input(\"Enter second string: \")\n",
        "\n",
        "print(\"Are they permutations?\", are_permutations(s1, s2))\n"
      ],
      "metadata": {
        "colab": {
          "base_uri": "https://localhost:8080/"
        },
        "id": "_o8z7B0sSZyy",
        "outputId": "7ee07077-0f74-4df5-cee1-fd5d7cb5601a"
      },
      "execution_count": 4,
      "outputs": [
        {
          "output_type": "stream",
          "name": "stdout",
          "text": [
            "Enter first string: arslan\n",
            "Enter second string: nalsra\n",
            "Are they permutations? True\n"
          ]
        }
      ]
    },
    {
      "cell_type": "markdown",
      "source": [
        "4. Given a list of integers, return the second largest unique number. If no second largest unique\n",
        "number exists, return None."
      ],
      "metadata": {
        "id": "s99KAT2CSpIT"
      }
    },
    {
      "cell_type": "code",
      "source": [
        "def second_largest_unique(nums):\n",
        "    unique_nums = list(set(nums))  # Remove duplicates\n",
        "\n",
        "    if len(unique_nums) < 2:\n",
        "        return None  # Not enough unique numbers\n",
        "\n",
        "    unique_nums.sort(reverse=True)  # Sort in descending order\n",
        "    return unique_nums[1]  # Second largest\n",
        "\n",
        "# Example usage\n",
        "input_str = input(\"Enter a list of integers (space-separated): \")\n",
        "nums = list(map(int, input_str.strip().split()))\n",
        "\n",
        "result = second_largest_unique(nums)\n",
        "print(\"Second largest unique number:\", result)\n"
      ],
      "metadata": {
        "colab": {
          "base_uri": "https://localhost:8080/"
        },
        "id": "ZlNnMuE8S0Rm",
        "outputId": "7bae9872-2efb-42df-842d-774bcc7dcdbb"
      },
      "execution_count": 5,
      "outputs": [
        {
          "output_type": "stream",
          "name": "stdout",
          "text": [
            "Enter a list of integers (space-separated): 1 3 5 7 9\n",
            "Second largest unique number: 7\n"
          ]
        }
      ]
    }
  ]
}