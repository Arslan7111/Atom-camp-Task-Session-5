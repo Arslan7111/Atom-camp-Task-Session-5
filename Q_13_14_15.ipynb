{
  "nbformat": 4,
  "nbformat_minor": 0,
  "metadata": {
    "colab": {
      "provenance": []
    },
    "kernelspec": {
      "name": "python3",
      "display_name": "Python 3"
    },
    "language_info": {
      "name": "python"
    }
  },
  "cells": [
    {
      "cell_type": "markdown",
      "source": [
        "#Q13"
      ],
      "metadata": {
        "id": "QHYy0CkBU6hV"
      }
    },
    {
      "cell_type": "code",
      "execution_count": 18,
      "metadata": {
        "id": "cOa-pNQPPsj7"
      },
      "outputs": [],
      "source": [
        "def score1(students):\n",
        "\n",
        "  if not students:\n",
        "    return None\n",
        "\n",
        "  highest_score = -1\n",
        "  student_highest_score = None\n",
        "\n",
        "  for name, score in students.items():\n",
        "    if score > highest_score:\n",
        "      highest_score = score\n",
        "      student_highest_score = name\n",
        "\n",
        "  return student_highest_score\n"
      ]
    },
    {
      "cell_type": "code",
      "source": [
        "score1({\"Alice\":85, \"Bob\":90, \"Charlie\":92})"
      ],
      "metadata": {
        "colab": {
          "base_uri": "https://localhost:8080/",
          "height": 35
        },
        "id": "ssYOPy4DRr1U",
        "outputId": "2ebc2f5d-d1ab-449d-c885-b3040ac8332a"
      },
      "execution_count": 19,
      "outputs": [
        {
          "output_type": "execute_result",
          "data": {
            "text/plain": [
              "'Charlie'"
            ],
            "application/vnd.google.colaboratory.intrinsic+json": {
              "type": "string"
            }
          },
          "metadata": {},
          "execution_count": 19
        }
      ]
    },
    {
      "cell_type": "markdown",
      "source": [
        "#Q14"
      ],
      "metadata": {
        "id": "DbQfLtNPSr8-"
      }
    },
    {
      "cell_type": "code",
      "source": [
        "def apply_lambda(data, func):\n",
        "\n",
        "    return [func(x) for x in data]\n"
      ],
      "metadata": {
        "id": "mUYpICJCTD8z"
      },
      "execution_count": 12,
      "outputs": []
    },
    {
      "cell_type": "code",
      "source": [
        "apply_lambda([1,2,3,4,5],lambda x:x**2)"
      ],
      "metadata": {
        "colab": {
          "base_uri": "https://localhost:8080/"
        },
        "id": "jG0JmmWLTT8i",
        "outputId": "78ba33c2-7322-48c8-a3ae-bdd70f5cc6d0"
      },
      "execution_count": 13,
      "outputs": [
        {
          "output_type": "execute_result",
          "data": {
            "text/plain": [
              "[1, 4, 9, 16, 25]"
            ]
          },
          "metadata": {},
          "execution_count": 13
        }
      ]
    },
    {
      "cell_type": "markdown",
      "source": [
        "#Q15"
      ],
      "metadata": {
        "id": "_qmQl3xHTvp2"
      }
    },
    {
      "cell_type": "code",
      "source": [
        "\n",
        "def calculate(*n, operation='sum'):\n",
        "  if operation == 'multiply':\n",
        "    result = 1\n",
        "    for num in n:\n",
        "      result *= num\n",
        "    return result\n",
        "  else:  # Default to sum\n",
        "    return sum(n)\n"
      ],
      "metadata": {
        "id": "azgVe4BTTyCo"
      },
      "execution_count": 14,
      "outputs": []
    },
    {
      "cell_type": "code",
      "source": [
        "calculate(1,2,3,4,operation=\"multiply\")"
      ],
      "metadata": {
        "colab": {
          "base_uri": "https://localhost:8080/"
        },
        "id": "WrQ90BYOT8Td",
        "outputId": "f98d2854-d445-4e69-e0d1-e5981582325b"
      },
      "execution_count": 15,
      "outputs": [
        {
          "output_type": "execute_result",
          "data": {
            "text/plain": [
              "24"
            ]
          },
          "metadata": {},
          "execution_count": 15
        }
      ]
    }
  ]
}