{
  "nbformat": 4,
  "nbformat_minor": 0,
  "metadata": {
    "colab": {
      "provenance": []
    },
    "kernelspec": {
      "name": "python3",
      "display_name": "Python 3"
    },
    "language_info": {
      "name": "python"
    }
  },
  "cells": [
    {
      "cell_type": "markdown",
      "source": [
        "5. Count Distinct Pairs\n",
        "Problem: Given a list of integers and a target sum, count how many distinct pairs of integers in the list sum up to the target.\n",
        "Example: Input: [1, 2, 3, 4, 3, 6], Target: 6 Output: 2 Explanation: The pairs (2, 4) and (1, 5) sum up to 6."
      ],
      "metadata": {
        "id": "MxfJ04v3SNIF"
      }
    },
    {
      "cell_type": "code",
      "execution_count": null,
      "metadata": {
        "id": "uvz3kk2NRc2C"
      },
      "outputs": [],
      "source": [
        "def count_pairs(nums, target):\n",
        "    pairs = set()\n",
        "    seen = set()\n",
        "\n",
        "    for num in nums:\n",
        "        complement = target - num\n",
        "        if complement in seen:\n",
        "            pair = tuple(sorted((num, complement)))\n",
        "            pairs.add(pair)\n",
        "        seen.add(num)\n",
        "\n",
        "    return len(pairs)\n",
        "\n",
        "# Example From the given question:\n",
        "nums = [1, 2, 3, 4, 3, 6]\n",
        "target = 6\n",
        "print(count_pairs(nums, target))\n"
      ]
    },
    {
      "cell_type": "markdown",
      "source": [
        "6. Remove Duplicates from List\n",
        "Problem: Given a list of integers, remove all duplicates while maintaining the order of their first occurrence.\n",
        "Example: Input: [1, 2, 2, 3, 4, 5, 1] Output: [1, 2, 3, 4, 5] Explanation: Duplicates are removed, but the order of elements is preserved."
      ],
      "metadata": {
        "id": "eJyxzTPRSXj7"
      }
    },
    {
      "cell_type": "code",
      "source": [
        "def remove_duplicates(nums):\n",
        "    seen = set()\n",
        "    result = []\n",
        "\n",
        "    for num in nums:\n",
        "        if num not in seen:\n",
        "            seen.add(num)\n",
        "            result.append(num)\n",
        "\n",
        "    return result\n",
        "\n",
        "# Example From the above queston:\n",
        "nums = [1, 2, 2, 3, 4, 5, 1]\n",
        "print(remove_duplicates(nums))"
      ],
      "metadata": {
        "id": "X-_t_veAS5kS"
      },
      "execution_count": null,
      "outputs": []
    },
    {
      "cell_type": "markdown",
      "source": [
        "7. Subsets of a List\n",
        "Problem: Given a list of integers, return all possible subsets (the power set) of the list.\n",
        "Example: Input: [1, 2, 3]"
      ],
      "metadata": {
        "id": "cU495_BgScHm"
      }
    },
    {
      "cell_type": "code",
      "source": [
        "def subsets(nums):\n",
        "    result = []\n",
        "\n",
        "    def backtrack(start, path):\n",
        "        result.append(path)\n",
        "        for i in range(start, len(nums)):\n",
        "            backtrack(i + 1, path + [nums[i]])\n",
        "\n",
        "    backtrack(0, [])\n",
        "    return result\n",
        "\n",
        "# Example usage\n",
        "nums = [1, 2, 3]\n",
        "print(subsets(nums))"
      ],
      "metadata": {
        "id": "FIhv0xx5TLJ6"
      },
      "execution_count": null,
      "outputs": []
    },
    {
      "cell_type": "markdown",
      "source": [
        "*(8):Longest Increasing Subsequence\n",
        "Problem: Given a list of integers, find the length of the longest subsequence of strictly increasing elements.\n",
        "Example: Input: [10, 9, 2, 5, 3, 7, 101, 18] Output: 4 Explanation: The longest increasing subsequence is [2, 3, 7, 101]."
      ],
      "metadata": {
        "id": "DJOy7Pu_SvRb"
      }
    },
    {
      "cell_type": "code",
      "source": [
        "def length_of_LIS(nums):\n",
        "    if not nums:\n",
        "        return 0\n",
        "\n",
        "    dp = [1] * len(nums)\n",
        "\n",
        "    for i in range(len(nums)):\n",
        "        for j in range(i):\n",
        "            if nums[i] > nums[j]:\n",
        "                dp[i] = max(dp[i], dp[j] + 1)\n",
        "\n",
        "    return max(dp)\n",
        "\n",
        "# Example usage\n",
        "nums = [10, 9, 2, 5, 3, 7, 101, 18]\n",
        "print(length_of_LIS(nums))"
      ],
      "metadata": {
        "id": "Xkb_6KlQUQyw"
      },
      "execution_count": null,
      "outputs": []
    }
  ]
}