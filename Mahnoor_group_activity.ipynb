{
  "nbformat": 4,
  "nbformat_minor": 0,
  "metadata": {
    "colab": {
      "provenance": []
    },
    "kernelspec": {
      "name": "python3",
      "display_name": "Python 3"
    },
    "language_info": {
      "name": "python"
    }
  },
  "cells": [
    {
      "cell_type": "markdown",
      "source": [
        "**Problem: 9**\n",
        "Given a list of integers, return the maximum product of any two numbers in the list.\n",
        "\n",
        "Example:\n",
        "Input: [1, 10, -5, 1, 100]\n",
        "Output: 1000\n",
        "Explanation: The largest product comes from 10 * 100 = 1000."
      ],
      "metadata": {
        "id": "F5uQnh5qRavT"
      }
    },
    {
      "cell_type": "code",
      "execution_count": 6,
      "metadata": {
        "colab": {
          "base_uri": "https://localhost:8080/"
        },
        "id": "h9E-hea1PJa8",
        "outputId": "0a16f86b-c4a9-472d-e370-04d0648a951e"
      },
      "outputs": [
        {
          "output_type": "stream",
          "name": "stdout",
          "text": [
            "900\n"
          ]
        }
      ],
      "source": [
        "def max_product(nums):\n",
        "    max1 = max2 = float('-inf')\n",
        "    min1 = min2 = float('inf')\n",
        "\n",
        "    for num in nums:\n",
        "        # Track two largest numbers\n",
        "        if num > max1:\n",
        "            max2 = max1\n",
        "            max1 = num\n",
        "        elif num > max2:\n",
        "            max2 = num\n",
        "\n",
        "    return max1 * max2\n",
        "\n",
        "# Example usage\n",
        "print(max_product([5,6,9,-5,0,100,-99]))"
      ]
    },
    {
      "cell_type": "markdown",
      "source": [
        "*Problem:10*\n",
        "Given a string, return the character that appears most frequently. If there is a tie, return the lexicographically smallest character."
      ],
      "metadata": {
        "id": "jZMkJkH2TDad"
      }
    },
    {
      "cell_type": "code",
      "source": [
        "def most_frequent_char(s):\n",
        "    max_char = ''\n",
        "    max_count = 0\n",
        "\n",
        "    for char in s:\n",
        "        count = 0\n",
        "        for c in s:\n",
        "            if c == char:\n",
        "                count += 1\n",
        "\n",
        "        if count > max_count or (count == max_count and char < max_char):\n",
        "            max_count = count\n",
        "            max_char = char\n",
        "\n",
        "    return max_char\n",
        "\n",
        "# Example usage\n",
        "print(most_frequent_char(\"aaadffgh\"))"
      ],
      "metadata": {
        "colab": {
          "base_uri": "https://localhost:8080/"
        },
        "id": "j0P8KswySJRO",
        "outputId": "b52aa116-16c6-402b-98ed-b08906da13cd"
      },
      "execution_count": 9,
      "outputs": [
        {
          "output_type": "stream",
          "name": "stdout",
          "text": [
            "a\n"
          ]
        }
      ]
    },
    {
      "cell_type": "markdown",
      "source": [
        "Write a function that prints all prime numbers less than a given number n"
      ],
      "metadata": {
        "id": "gsjXqyx0Wnpm"
      }
    },
    {
      "cell_type": "code",
      "source": [
        "def print_primes(n):\n",
        "    for num in range(2, n):\n",
        "        is_prime = True\n",
        "        for i in range(2, int(num ** 0.5) + 1):\n",
        "            if num % i == 0:\n",
        "                is_prime = False\n",
        "                break\n",
        "        if is_prime:\n",
        "            print(num)\n",
        "\n",
        "# Example usage:\n",
        "print_primes(20)\n"
      ],
      "metadata": {
        "colab": {
          "base_uri": "https://localhost:8080/"
        },
        "id": "4s5xEYceWqRm",
        "outputId": "0c8f6737-872b-4394-e6f4-a7e489a8ccda"
      },
      "execution_count": 14,
      "outputs": [
        {
          "output_type": "stream",
          "name": "stdout",
          "text": [
            "2\n",
            "3\n",
            "5\n",
            "7\n",
            "11\n",
            "13\n",
            "17\n",
            "19\n"
          ]
        }
      ]
    },
    {
      "cell_type": "markdown",
      "source": [
        "Write a function that takes a variable number of arguments (*args) and returns the sum of all :the numbers"
      ],
      "metadata": {
        "id": "h1hT3E9OUKT_"
      }
    },
    {
      "cell_type": "code",
      "source": [
        "def sum_all(*args):\n",
        "    total = 0\n",
        "    for num in args:\n",
        "        total += num\n",
        "    return total\n",
        "\n",
        "# Example usage\n",
        "print(sum_all(1, 2, 3, 4))      # Output: 10\n"
      ],
      "metadata": {
        "colab": {
          "base_uri": "https://localhost:8080/"
        },
        "id": "afVaEwmXUJ5d",
        "outputId": "58e69e3d-2a99-4792-921c-6513522ef0dc"
      },
      "execution_count": 11,
      "outputs": [
        {
          "output_type": "stream",
          "name": "stdout",
          "text": [
            "10\n"
          ]
        }
      ]
    }
  ]
}